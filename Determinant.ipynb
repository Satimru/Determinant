{
 "cells": [
  {
   "cell_type": "code",
   "execution_count": 37,
   "id": "bee25735",
   "metadata": {},
   "outputs": [
    {
     "name": "stdout",
     "output_type": "stream",
     "text": [
      "179.0\n"
     ]
    }
   ],
   "source": [
    "import numpy.linalg as lg\n",
    "\n",
    "matrix = np.array([[1,5,7],\n",
    "                  [5,3,6],\n",
    "                  [8,9,7]])\n",
    "\n",
    "print(lg.det(matrix))\n",
    "\n"
   ]
  },
  {
   "cell_type": "code",
   "execution_count": 40,
   "id": "f88ce9b8",
   "metadata": {},
   "outputs": [
    {
     "name": "stdout",
     "output_type": "stream",
     "text": [
      "Матрица квадратная\n",
      "179\n"
     ]
    }
   ],
   "source": [
    "import numpy as np\n",
    "\n",
    "matrix = np.array([[1,5,7],\n",
    "                  [5,3,6],\n",
    "                  [8,9,7]])\n",
    "\n",
    "def check():\n",
    "    if matrix.shape[0] == matrix.shape[1]:\n",
    "        print('Матрица квадратная')\n",
    "    else:\n",
    "        print('Матрица не квадратная')\n",
    "\n",
    "def minor(matrix, i, j):\n",
    "    tmp = [row for k, row in enumerate(matrix) if k != i]\n",
    "    tmp = [col for k, col in enumerate(zip(*tmp)) if k != j]\n",
    "    tmp = np.array(tmp)\n",
    "    return tmp\n",
    "\n",
    "def FindDet(matrix):\n",
    "    det = 0\n",
    "    if matrix.shape[0] == 2:\n",
    "        return matrix[0][0]*matrix[1][1]-matrix[0][1]*matrix[1][0]\n",
    "    else:\n",
    "        for i in range(len(matrix)):\n",
    "            det += (-1)**(i)*matrix[0][i]*FindDet(minor(matrix,0,i))\n",
    "        return det\n",
    "    \n",
    "\n",
    "check()\n",
    "print(FindDet(matrix))"
   ]
  }
 ],
 "metadata": {
  "kernelspec": {
   "display_name": "Python 3 (ipykernel)",
   "language": "python",
   "name": "python3"
  },
  "language_info": {
   "codemirror_mode": {
    "name": "ipython",
    "version": 3
   },
   "file_extension": ".py",
   "mimetype": "text/x-python",
   "name": "python",
   "nbconvert_exporter": "python",
   "pygments_lexer": "ipython3",
   "version": "3.9.12"
  }
 },
 "nbformat": 4,
 "nbformat_minor": 5
}
